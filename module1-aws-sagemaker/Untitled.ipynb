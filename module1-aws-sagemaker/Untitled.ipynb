{
 "cells": [
  {
   "cell_type": "code",
   "execution_count": 4,
   "id": "c6f333e9",
   "metadata": {},
   "outputs": [
    {
     "name": "stdout",
     "output_type": "stream",
     "text": [
      "1\n"
     ]
    }
   ],
   "source": [
    "class Solution:\n",
    "    def numMagicSquaresInside(self, grid):\n",
    "        count = 0\n",
    "        for i in range(len(grid)-2):\n",
    "            for j in range(len(grid[0])-2):\n",
    "                if grid[i+1][j+1] != 5:\n",
    "                    continue\n",
    "                if 15 == sum(grid[i][j:j+3]) == sum(grid[i+2][j:j+3]) == sum(grid[x][j] for x in range(i,i+3)) == sum(grid[x][j+2] for x in range(i,i+3)):\n",
    "                    if set(grid[i][j:j+3] + grid[i+1][j:j+3] + grid[i+2][j:j+3]) == set(range(1,10)):\n",
    "                        count += 1\n",
    "        return count\n",
    "\n",
    "\n",
    "if __name__ == '__main__':\n",
    "    s = Solution()\n",
    "    print(s.numMagicSquaresInside([[4,3,8,4],[9,5,1,9],[2,7,6,2]]))"
   ]
  },
  {
   "cell_type": "code",
   "execution_count": null,
   "id": "fc2e9195",
   "metadata": {},
   "outputs": [],
   "source": []
  }
 ],
 "metadata": {
  "kernelspec": {
   "display_name": "Python 3 (ipykernel)",
   "language": "python",
   "name": "python3"
  },
  "language_info": {
   "codemirror_mode": {
    "name": "ipython",
    "version": 3
   },
   "file_extension": ".py",
   "mimetype": "text/x-python",
   "name": "python",
   "nbconvert_exporter": "python",
   "pygments_lexer": "ipython3",
   "version": "3.9.12"
  }
 },
 "nbformat": 4,
 "nbformat_minor": 5
}
